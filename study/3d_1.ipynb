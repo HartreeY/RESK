{
 "cells": [
  {
   "cell_type": "markdown",
   "metadata": {},
   "source": [
    "#### A 3D axial (cylinder) simulation\n"
   ]
  },
  {
   "cell_type": "code",
   "execution_count": 1,
   "metadata": {},
   "outputs": [
    {
     "name": "stdout",
     "output_type": "stream",
     "text": [
      "RESK successfully loaded.\n",
      "RESKPlots successfully loaded.\n"
     ]
    }
   ],
   "source": [
    "include(\"../resk.jl\")\n",
    "include(\"../reskplots.jl\")"
   ]
  },
  {
   "cell_type": "code",
   "execution_count": 2,
   "metadata": {},
   "outputs": [
    {
     "ename": "UndefVarError",
     "evalue": "UndefVarError: `timeseries_mean` not defined",
     "output_type": "error",
     "traceback": [
      "UndefVarError: `timeseries_mean` not defined\n",
      "\n",
      "Stacktrace:\n",
      " [1] top-level scope\n",
      "   @ d:\\Coding\\Genetics\\RESK\\study\\jl_notebook_cell_df34fa98e69747e1a8f8a730347b8e2f_X10sZmlsZQ==.jl:3"
     ]
    }
   ],
   "source": [
    "Anb = deserialize(\"data/3d_1nb.re\")\n",
    "Anb_fitn_frontav = average_front(Anb,\"fitn\";oneside=true)\n",
    "Anb_fitn_frontav_mean = timeseries_mean(Anb_fitn_frontav, Anb[\"stats\"][\"n_gens\"])"
   ]
  },
  {
   "cell_type": "code",
   "execution_count": 3,
   "metadata": {},
   "outputs": [
    {
     "ename": "UndefVarError",
     "evalue": "UndefVarError: `Anb_fitn_frontav_mean` not defined",
     "output_type": "error",
     "traceback": [
      "UndefVarError: `Anb_fitn_frontav_mean` not defined\n",
      "\n",
      "Stacktrace:\n",
      " [1] top-level scope\n",
      "   @ d:\\Coding\\Genetics\\RESK\\study\\jl_notebook_cell_df34fa98e69747e1a8f8a730347b8e2f_X11sZmlsZQ==.jl:1"
     ]
    }
   ],
   "source": [
    "Plots.plot(Anb_fitn_frontav_mean,label=\"No burn-in\",xlabel=\"Generation\",ylims=(0.4,1.1))"
   ]
  },
  {
   "cell_type": "code",
   "execution_count": 4,
   "metadata": {},
   "outputs": [
    {
     "ename": "SystemError",
     "evalue": "SystemError: opening file \"data/3d_1.re\": No such file or directory",
     "output_type": "error",
     "traceback": [
      "SystemError: opening file \"data/3d_1.re\": No such file or directory\n",
      "\n",
      "Stacktrace:\n",
      " [1] systemerror(p::String, errno::Int32; extrainfo::Nothing)\n",
      "   @ Base .\\error.jl:176\n",
      " [2] systemerror\n",
      "   @ .\\error.jl:175 [inlined]\n",
      " [3] open(fname::String; lock::Bool, read::Nothing, write::Nothing, create::Nothing, truncate::Nothing, append::Nothing)\n",
      "   @ Base .\\iostream.jl:293\n",
      " [4] open\n",
      "   @ .\\iostream.jl:275 [inlined]\n",
      " [5] open(f::typeof(deserialize), args::String; kwargs::@Kwargs{})\n",
      "   @ Base .\\io.jl:394\n",
      " [6] open\n",
      "   @ .\\io.jl:393 [inlined]\n",
      " [7] deserialize(filename::String)\n",
      "   @ Serialization C:\\Users\\Hartree\\AppData\\Local\\julias\\julia-1.10\\share\\julia\\stdlib\\v1.10\\Serialization\\src\\Serialization.jl:811\n",
      " [8] top-level scope\n",
      "   @ d:\\Coding\\Genetics\\RESK\\study\\jl_notebook_cell_df34fa98e69747e1a8f8a730347b8e2f_X12sZmlsZQ==.jl:1"
     ]
    }
   ],
   "source": [
    "A = deserialize(\"data/3d_1.re\")\n",
    "A_fitn_frontav = average_front(A,\"fitn\";oneside=true)\n",
    "A_fitn_frontav_mean = average_ts(A_fitn_frontav, A[\"stats\"][\"n_gens\"])\n",
    "A_fitn_frontav_meanN = norm_onset_mean(A_fitn_frontav_mean, A[\"stats\"][\"n_gens_burnin\"]+1)"
   ]
  },
  {
   "cell_type": "code",
   "execution_count": 5,
   "metadata": {},
   "outputs": [
    {
     "ename": "UndefVarError",
     "evalue": "UndefVarError: `Anb_fitn_frontav_mean` not defined",
     "output_type": "error",
     "traceback": [
      "UndefVarError: `Anb_fitn_frontav_mean` not defined\n",
      "\n",
      "Stacktrace:\n",
      " [1] top-level scope\n",
      "   @ d:\\Coding\\Genetics\\RESK\\study\\jl_notebook_cell_df34fa98e69747e1a8f8a730347b8e2f_X16sZmlsZQ==.jl:1"
     ]
    }
   ],
   "source": [
    "Plots.plot(Anb_fitn_frontav_mean,label=\"Onset mean normalisation\",xlabel=\"Generation\",ylims=(0.4,1.1))"
   ]
  },
  {
   "cell_type": "code",
   "execution_count": 6,
   "metadata": {},
   "outputs": [
    {
     "ename": "UndefVarError",
     "evalue": "UndefVarError: `A` not defined",
     "output_type": "error",
     "traceback": [
      "UndefVarError: `A` not defined\n",
      "\n",
      "Stacktrace:\n",
      " [1] top-level scope\n",
      "   @ d:\\Coding\\Genetics\\RESK\\study\\jl_notebook_cell_df34fa98e69747e1a8f8a730347b8e2f_X20sZmlsZQ==.jl:1"
     ]
    }
   ],
   "source": [
    "re_heatmap(A,\"fitn\",450,500)"
   ]
  },
  {
   "cell_type": "code",
   "execution_count": 7,
   "metadata": {},
   "outputs": [
    {
     "ename": "UndefVarError",
     "evalue": "UndefVarError: `test_fitnN_frontav_meanN` not defined",
     "output_type": "error",
     "traceback": [
      "UndefVarError: `test_fitnN_frontav_meanN` not defined\n",
      "\n",
      "Stacktrace:\n",
      " [1] top-level scope\n",
      "   @ d:\\Coding\\Genetics\\RESK\\study\\jl_notebook_cell_df34fa98e69747e1a8f8a730347b8e2f_X23sZmlsZQ==.jl:1"
     ]
    }
   ],
   "source": [
    "Plots.plot!(test_fitnN_frontav_meanN,label=\"Onset mean normalisation\",xlabel=\"Generation\",ylims=(0.4,1.1),xlims=(0,2500))"
   ]
  }
 ],
 "metadata": {
  "kernelspec": {
   "display_name": "Julia 1.10.3",
   "language": "julia",
   "name": "julia-1.10"
  },
  "language_info": {
   "file_extension": ".jl",
   "mimetype": "application/julia",
   "name": "julia",
   "version": "1.10.3"
  }
 },
 "nbformat": 4,
 "nbformat_minor": 2
}
