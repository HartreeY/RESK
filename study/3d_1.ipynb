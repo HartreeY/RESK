{
 "cells": [
  {
   "cell_type": "markdown",
   "metadata": {},
   "source": [
    "#### A 3D axial (cylinder) simulation\n"
   ]
  },
  {
   "cell_type": "code",
   "execution_count": 1,
   "metadata": {},
   "outputs": [
    {
     "name": "stdout",
     "output_type": "stream",
     "text": [
      "RESK successfully loaded.\n",
      "RESKPlots successfully loaded.\n"
     ]
    }
   ],
   "source": [
    "include(\"../resk.jl\")\n",
    "include(\"../reskplots.jl\")"
   ]
  },
  {
   "cell_type": "code",
   "execution_count": null,
   "metadata": {},
   "outputs": [],
   "source": [
    "A = deserialize(\"data/3d_1.re\")\n",
    "A_fitn_frontav = average_front(A,\"fitn\";oneside=true)\n",
    "A_fitn_frontav_mean = average_ts(A_fitn_frontav, A[\"stats\"][\"n_gens\"])\n",
    "A_fitn_frontav_meanN = norm_onset_mean(A_fitn_frontav_mean, A[\"stats\"][\"n_gens_burnin\"]+1)\n",
    "Anb = deserialize(\"data/3d_1nb.re\")\n",
    "Anb_fitn_frontav = average_front(Anb,\"fitn\";oneside=true)\n",
    "Anb_fitn_frontav_mean = average_ts(Anb_fitn_frontav, Anb[\"stats\"][\"n_gens\"])"
   ]
  },
  {
   "cell_type": "code",
   "execution_count": null,
   "metadata": {},
   "outputs": [],
   "source": [
    "re_heatstack(A, \"fitn\", A[\"stats\"][\"n_gens\"]-49, A[\"stats\"][\"n_gens\"])"
   ]
  },
  {
   "cell_type": "code",
   "execution_count": null,
   "metadata": {},
   "outputs": [],
   "source": [
    "Plots.plot(A_fitn_frontav_meanN[(A[\"stats\"][\"n_gens_burnin\"]+2):end],label=\"Onset mean normalisation\",xlabel=\"Generation\",ylims=(0.4,1.1))\n",
    "Plots.plot!(Anb_fitn_frontav_mean,label=\"No burn-in\")"
   ]
  }
 ],
 "metadata": {
  "kernelspec": {
   "display_name": "Julia 1.10.3",
   "language": "julia",
   "name": "julia-1.10"
  },
  "language_info": {
   "file_extension": ".jl",
   "mimetype": "application/julia",
   "name": "julia",
   "version": "1.10.3"
  }
 },
 "nbformat": 4,
 "nbformat_minor": 2
}
