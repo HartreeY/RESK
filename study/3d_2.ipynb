{
 "cells": [
  {
   "cell_type": "markdown",
   "metadata": {},
   "source": [
    "#### A 3D radial (sphere) simulation"
   ]
  },
  {
   "cell_type": "code",
   "execution_count": 1,
   "metadata": {},
   "outputs": [
    {
     "name": "stdout",
     "output_type": "stream",
     "text": [
      "RESK successfully loaded.\n",
      "RESKPlots successfully loaded.\n"
     ]
    }
   ],
   "source": [
    "include(\"../resk.jl\")\n",
    "include(\"../reskplots.jl\")"
   ]
  },
  {
   "cell_type": "code",
   "execution_count": null,
   "metadata": {},
   "outputs": [],
   "source": [
    "A = deserialize(\"data/3d_2.re\")\n",
    "A_fitn_frontav = average_front(A,\"fitn\";oneside=false)\n",
    "A_fitn_frontav_mean = average_ts(A_fitn_frontav, A[\"stats\"][\"n_gens\"])\n",
    "A_fitn_frontav_meanN = norm_onset_mean(A_fitn_frontav_mean, A[\"stats\"][\"n_gens_burnin\"]+1)\n",
    "Anb = deserialize(\"data/3d_2nb.re\")\n",
    "Anb_fitn_frontav = average_front(Anb,\"fitn\";oneside=false)\n",
    "Anb_fitn_frontav_mean = average_ts(Anb_fitn_frontav, Anb[\"stats\"][\"n_gens\"])"
   ]
  },
  {
   "cell_type": "code",
   "execution_count": 5,
   "metadata": {},
   "outputs": [
    {
     "data": {
      "text/plain": [
       "average_front (generic function with 4 methods)"
      ]
     },
     "metadata": {},
     "output_type": "display_data"
    }
   ],
   "source": [
    "function average_front(data, n_gens, x_max, y_max, z_max; greaterzero=false, oneside=false, divide=true)\n",
    "    n_re = size(data, 5)\n",
    "    av_arr = Array{Float32}(undef, n_gens, n_re)\n",
    "\n",
    "    for i in 1:n_re, j in 1:n_gens\n",
    "        a_sum = 0\n",
    "        cnt = 0\n",
    "        # scanning every xy: side 1\n",
    "        for _x in 1:x_max, _y in 1:y_max\n",
    "            frontier_z = z_max\n",
    "            while frontier_z != 1 && (isnan(data[_x, _y, frontier_z, j, i]) || (greaterzero && data[_x, _y, frontier_z, j, i] == 0))\n",
    "                frontier_z -= 1\n",
    "            end\n",
    "            if data[_x, _y, frontier_z, j, i] >= 0 || (greaterzero && data[_x, _y, frontier_z, j, i] > 0)\n",
    "                a_sum += data[_x, _y, frontier_z, j, i]\n",
    "                cnt += 1\n",
    "            end\n",
    "        end\n",
    "        # scanning every xy: side 2\n",
    "        if !oneside\n",
    "            for _x in 1:x_max, _y in 1:y_max\n",
    "                frontier_z = 1\n",
    "                while frontier_z != z_max && (isnan(data[_x, _y, frontier_z, j, i]) || (greaterzero && data[_x, _y, frontier_z, j, i] == 0))\n",
    "                    frontier_z += 1\n",
    "                end\n",
    "                if data[_x, _y, frontier_z, j, i] >= 0 || (greaterzero && data[_x, _y, frontier_z, j, i] > 0)\n",
    "                    a_sum += data[_x, _y, frontier_z, j, i]\n",
    "                    cnt += 1\n",
    "                end\n",
    "            end\n",
    "        end\n",
    "        mean_both_sides_xy = a_sum\n",
    "        if divide\n",
    "            mean_both_sides_xy /= cnt\n",
    "        end\n",
    "\n",
    "        if !oneside\n",
    "            a_sum = 0\n",
    "            cnt = 0\n",
    "            # scanning every yz: side 1\n",
    "            for _y in 1:y_max, _z in 1:z_max\n",
    "                frontier_x = x_max\n",
    "                while frontier_x != 1 && (isnan(data[frontier_x, _y, _z, j, i]) || (greaterzero && data[frontier_x, _y, _z, j, i]== 0))\n",
    "                    frontier_x -= 1\n",
    "                end\n",
    "                if data[frontier_x, _y, _z, j, i] >= 0 || (greaterzero && data[frontier_x, _y, _z, j, i] > 0)\n",
    "                    a_sum += data[frontier_x, _y, _z, j, i]\n",
    "                    cnt += 1\n",
    "                end\n",
    "            end\n",
    "            # scanning every yz: side 2\n",
    "            for _y in 1:y_max, _z in 1:z_max\n",
    "                frontier_x = 1\n",
    "                while frontier_x != x_max && (isnan(data[frontier_x, _y, _z, j, i]) || (greaterzero && data[frontier_x, _y, _z, j, i] == 0))\n",
    "                    frontier_x += 1\n",
    "                end\n",
    "                if data[frontier_x, _y, _z, j, i] >= 0 || (greaterzero && data[frontier_x, _y, _z, j, i] > 0)\n",
    "                    a_sum += data[frontier_x, _y, _z, j, i]\n",
    "                    cnt += 1\n",
    "                end\n",
    "            end\n",
    "            mean_both_sides_yz = a_sum\n",
    "            if divide\n",
    "                mean_both_sides_yz /= cnt\n",
    "            end\n",
    "\n",
    "            a_sum = 0\n",
    "            cnt = 0\n",
    "            # scanning every xz: side 1\n",
    "            for _x in 1:x_max, _z in 1:z_max\n",
    "                frontier_y = y_max\n",
    "                while frontier_y != 1 && (isnan(data[_x, frontier_y, _z, j, i]) || (greaterzero && data[_x, frontier_y, _z, j, i] == 0))\n",
    "                    frontier_y -= 1\n",
    "                end\n",
    "                if data[_x, frontier_y, _z, j, i] >= 0 || (greaterzero && data[_x, frontier_y, _z, j, i] > 0)\n",
    "                    a_sum += data[_x, frontier_y, _z, j, i]\n",
    "                    cnt += 1\n",
    "                end\n",
    "            end\n",
    "            # scanning every yz: side 2\n",
    "            for _x in 1:x_max, _z in 1:z_max\n",
    "                frontier_y = 1\n",
    "                while frontier_y != y_max && (isnan(data[_x, frontier_y, _z, j, i]) || (greaterzero && data[_x, frontier_y, _z, j, i] == 0))\n",
    "                    frontier_y += 1\n",
    "                end\n",
    "                if data[_x, frontier_y, _z, j, i] >= 0 || (greaterzero && data[_x, frontier_y, _z, j, i] > 0)\n",
    "                    a_sum += data[_x, frontier_y, _z, j, i]\n",
    "                    cnt += 1\n",
    "                end\n",
    "            end\n",
    "            mean_both_sides_xz = a_sum\n",
    "            if divide\n",
    "                mean_both_sides_xz /= cnt\n",
    "            end\n",
    "\n",
    "            av_arr[j, i] = (mean_both_sides_xy + mean_both_sides_yz + mean_both_sides_xz)/3\n",
    "        else\n",
    "            av_arr[j, i] = mean_both_sides_xy\n",
    "        end\n",
    "    end\n",
    "    return av_arr\n",
    "end"
   ]
  },
  {
   "cell_type": "code",
   "execution_count": 19,
   "metadata": {},
   "outputs": [
    {
     "data": {
      "text/plain": [
       "norm_onset_mean2 (generic function with 5 methods)"
      ]
     },
     "metadata": {},
     "output_type": "display_data"
    }
   ],
   "source": [
    "function norm_onset_mean2(re::Dict, dataname::String=\"fitn\", offset::Int=0)\n",
    "    norm_onset_mean2(re[dataname], re[\"stats\"][\"n_gens_burnin\"], offset)\n",
    "end\n",
    "\n",
    "function norm_onset_mean2(data, n_gens_burnin::Int, offset::Int=0)\n",
    "    normal_array = copy(data)\n",
    "    n_re = size(data)[end]\n",
    "    wlddim = length(size(data)) - 2\n",
    "\n",
    "    for rep in 1:n_re\n",
    "        sum = 0\n",
    "        count = 0\n",
    "\n",
    "        for u in data[repeat([:], wlddim)..., n_gens_burnin + 1 + offset, rep]\n",
    "            if u > 0\n",
    "                sum += u\n",
    "                count += 1\n",
    "            end\n",
    "        end\n",
    "\n",
    "        gen_average = sum / count\n",
    "        println(gen_average)\n",
    "\n",
    "        for i in (n_gens_burnin + 1 + offset):size(data, wlddim + 1)\n",
    "            normal_array[repeat([:], wlddim)..., i, rep] ./= gen_average\n",
    "        end\n",
    "    end\n",
    "\n",
    "    return normal_array\n",
    "end"
   ]
  },
  {
   "cell_type": "code",
   "execution_count": null,
   "metadata": {},
   "outputs": [],
   "source": [
    "Plots.plot(A_fitn_frontav_meanN[(A[\"stats\"][\"n_gens_burnin\"]+2):end],label=\"Onset mean normalisation\",xlabel=\"Generation\",ylims=(0.4,1.1))\n",
    "Plots.plot!(Anb_fitn_frontav_mean,label=\"No burn-in\")"
   ]
  }
 ],
 "metadata": {
  "kernelspec": {
   "display_name": "Julia 1.10.3",
   "language": "julia",
   "name": "julia-1.10"
  },
  "language_info": {
   "file_extension": ".jl",
   "mimetype": "application/julia",
   "name": "julia",
   "version": "1.10.3"
  }
 },
 "nbformat": 4,
 "nbformat_minor": 2
}
