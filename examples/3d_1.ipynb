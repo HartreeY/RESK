{
 "cells": [
  {
   "cell_type": "markdown",
   "metadata": {},
   "source": [
    "### 3d.ipynb\n",
    "#### Examples of range expansions in 3D.\n",
    "---\n",
    "First, include  RESK:"
   ]
  },
  {
   "cell_type": "code",
   "execution_count": 1,
   "metadata": {},
   "outputs": [
    {
     "name": "stdout",
     "output_type": "stream",
     "text": [
      "RESK successfully loaded.\n"
     ]
    }
   ],
   "source": [
    "include(\"../resk.jl\")\n",
    "include(\"../reskplots.jl\")"
   ]
  },
  {
   "cell_type": "markdown",
   "metadata": {},
   "source": [
    "Let's run a small simulation assuming the finite sites model:"
   ]
  },
  {
   "cell_type": "code",
   "execution_count": 2,
   "metadata": {},
   "outputs": [
    {
     "data": {
      "text/plain": [
       "Dict{String, Any} with 9 entries:\n",
       "  \"AAsel\" => Float32[]\n",
       "  \"pops\"  => Float32[NaN NaN … NaN NaN; NaN NaN … NaN NaN; … ; NaN NaN … NaN Na…\n",
       "  \"aasel\" => Float32[]\n",
       "  \"fitn\"  => Float32[NaN NaN … NaN NaN; NaN NaN … NaN NaN; … ; NaN NaN … NaN Na…\n",
       "  \"aaneu\" => Float32[]\n",
       "  \"Aasel\" => Float32[]\n",
       "  \"Aaneu\" => Float32[]\n",
       "  \"AAneu\" => Float32[]\n",
       "  \"stats\" => Dict{String, Any}(\"capacity\"=>20, \"wlddim\"=>3, \"max_burnin\"=>(NaN,…"
      ]
     },
     "metadata": {},
     "output_type": "display_data"
    }
   ],
   "source": [
    "test = rangeexp_cylinder()"
   ]
  },
  {
   "cell_type": "markdown",
   "metadata": {},
   "source": [
    "With the `re_heatstack` function, we can create an animation of variables in 3D habitats:"
   ]
  },
  {
   "cell_type": "code",
   "execution_count": 7,
   "metadata": {},
   "outputs": [
    {
     "name": "stdout",
     "output_type": "stream",
     "text": [
      "(1.0f0, 42.0f0)\n"
     ]
    },
    {
     "data": {
      "text/plain": [
       "\"2024-08-22_08-58-55.mp4\""
      ]
     },
     "metadata": {},
     "output_type": "display_data"
    }
   ],
   "source": [
    "re_heatstack(test,\"pops\",20,50)"
   ]
  },
  {
   "cell_type": "markdown",
   "metadata": {},
   "source": [
    "Open the `.mp4` file with the date as name to see the animation. We can see that in this time, only the cylinder base starts filling out. Let's run a longer simulation in an infinite-sites setting:"
   ]
  },
  {
   "cell_type": "code",
   "execution_count": 8,
   "metadata": {},
   "outputs": [
    {
     "data": {
      "text/plain": [
       "Dict{String, Any} with 5 entries:\n",
       "  \"pops\"  => Float32[NaN NaN … NaN NaN; NaN NaN … NaN NaN; … ; NaN NaN … NaN Na…\n",
       "  \"del\"   => Float32[]\n",
       "  \"fitn\"  => Float32[NaN NaN … NaN NaN; NaN NaN … NaN NaN; … ; NaN NaN … NaN Na…\n",
       "  \"stats\" => Dict{String, Any}(\"wlddim\"=>3, \"max_burnin\"=>NaN, \"name\"=>\"2024-08…\n",
       "  \"ben\"   => Float32[]"
      ]
     },
     "metadata": {},
     "output_type": "display_data"
    }
   ],
   "source": [
    "test = rangeexp_sphere_inf(50,250;r_max_burnin=4,r_max_exp=10)"
   ]
  },
  {
   "cell_type": "code",
   "execution_count": 12,
   "metadata": {},
   "outputs": [
    {
     "name": "stdout",
     "output_type": "stream",
     "text": [
      "(0.8168264f0, 1.004004f0)\n"
     ]
    },
    {
     "data": {
      "text/plain": [
       "\"2024-08-22_09-06-34.mp4\""
      ]
     },
     "metadata": {},
     "output_type": "display_data"
    }
   ],
   "source": [
    "re_heatstack(test,\"fitn\")"
   ]
  },
  {
   "cell_type": "markdown",
   "metadata": {},
   "source": [
    "We haven't specified the generations, so the animation was generated from start to finish. If you take a look at it, it properly represents the evolution of a radially expanding population in 3D.\n",
    "\n",
    "There is also a function to view a frame of a single specified generation (in a separate window):"
   ]
  },
  {
   "cell_type": "code",
   "execution_count": 13,
   "metadata": {},
   "outputs": [],
   "source": [
    "re_heatstack_frame(test[\"fitn\"][:,:,:,1],1:test[\"stats\"][\"max\"][1],1:test[\"stats\"][\"max\"][3],(0.9,1.1))"
   ]
  }
 ],
 "metadata": {
  "kernelspec": {
   "display_name": "Julia 1.10.3",
   "language": "julia",
   "name": "julia-1.10"
  },
  "language_info": {
   "file_extension": ".jl",
   "mimetype": "application/julia",
   "name": "julia",
   "version": "1.10.3"
  }
 },
 "nbformat": 4,
 "nbformat_minor": 2
}
